{
 "cells": [
  {
   "cell_type": "code",
   "execution_count": 1,
   "metadata": {},
   "outputs": [],
   "source": [
    "import numpy as np\n",
    "import yaml\n",
    "import cv2\n",
    "import torch\n",
    "import torch.nn as nn\n",
    "import json\n",
    "import xml\n",
    "from xml.etree import ElementTree\n",
    "import os\n",
    "import sys\n",
    "import re\n",
    "from tqdm import tqdm\n",
    "import matplotlib.pyplot as plt\n",
    "import matplotlib.patches as patches"
   ]
  },
  {
   "cell_type": "code",
   "execution_count": 2,
   "metadata": {},
   "outputs": [
    {
     "name": "stdout",
     "output_type": "stream",
     "text": [
      "OpenCV version:  3.4.3\n",
      "PyTorch version:  1.1.0\n",
      "NumPy version:  1.15.1\n",
      "Matplotlib version:  1.15.1\n"
     ]
    }
   ],
   "source": [
    "print(\"OpenCV version: \", cv2.__version__)\n",
    "print(\"PyTorch version: \", torch.__version__)\n",
    "print(\"NumPy version: \", np.__version__)\n",
    "print(\"Matplotlib version: \", np.__version__)"
   ]
  },
  {
   "cell_type": "code",
   "execution_count": 8,
   "metadata": {},
   "outputs": [
    {
     "name": "stdout",
     "output_type": "stream",
     "text": [
      "jupyter \t:\t False\n",
      "data_count \t:\t 50\n",
      "save_plots_loc \t:\t images/\n",
      "num_anchors \t:\t 2\n",
      "ds_loc \t:\t ../face_detect/datasets/archive/\n",
      "ds_test \t:\t True\n",
      "num_classes \t:\t 4\n",
      "img_size \t:\t 416\n",
      "DEBUG_MODE \t:\t False\n"
     ]
    }
   ],
   "source": [
    "config = yaml.safe_load(open(\"../config.yaml\"))\n",
    "\n",
    "# Show config Params\n",
    "for k,v in config.items():\n",
    "    print(k, \"\\t:\\t\", v)"
   ]
  },
  {
   "cell_type": "code",
   "execution_count": 9,
   "metadata": {},
   "outputs": [],
   "source": [
    "def atoi(text):\n",
    "    return int(text) if text.isdigit() else text\n",
    "\n",
    "def natural_keys(text):\n",
    "    return [ atoi(c) for c in re.split(r'(\\d+)', text) ]\n",
    "\n",
    "def open_traffic_ds(config):\n",
    "    imgs = []\n",
    "    annots = []\n",
    "    if(config[\"ds_test\"]):\n",
    "        # Get images\n",
    "        for idx,im_file in (enumerate(sorted(os.listdir(\"../\"+config[\"ds_loc\"]+\"images/\"),key=natural_keys))):\n",
    "            if(config['DEBUG_MODE'] and idx == config[\"data_count\"]):\n",
    "                break\n",
    "            xml_file = im_file.split(\".\")[0] + \".xml\"\n",
    "            tree = ElementTree.parse(\"../\"+config[\"ds_loc\"]+\"annotations/\"+xml_file)\n",
    "            im_data = get_xml_data(tree)\n",
    "            \n",
    "            img = cv2.imread(\"../\"+config[\"ds_loc\"]+\"images/\"+im_file)\n",
    "            imgs.append(img)\n",
    "            annots.append(im_data)\n",
    "    \n",
    "    return imgs,annots\n",
    "\n",
    "\n",
    "def get_xml_data(tree):\n",
    "    root = tree.getroot()\n",
    "    bboxes = []\n",
    "    file_name = ''\n",
    "    w = 0\n",
    "    h = 0\n",
    "    x_min = 0\n",
    "    x_max = 0\n",
    "    y_min = 0\n",
    "    y_max = 0\n",
    "    im_data = {\n",
    "        'filename': file_name,\n",
    "        'w' : 0,\n",
    "        'h' : 0,\n",
    "        'bboxes': bboxes\n",
    "    }\n",
    "    for item in root:\n",
    "        if(item.tag == 'filename'):\n",
    "            im_data['filename'] = item.text\n",
    "        if(item.tag == \"size\"):\n",
    "            im_data['w'] = int(item[0].text)\n",
    "            im_data['h'] = int(item[1].text)\n",
    "        if(item.tag == \"object\"):\n",
    "            for obj_items in item:\n",
    "                if(obj_items.tag == \"bndbox\"):\n",
    "                    bbox_data = {\n",
    "                        'x_min' : 0,\n",
    "                        'x_max' : 0,\n",
    "                        'y_min' : 0,\n",
    "                        'y_max' : 0,\n",
    "                        'x_mid' : 0,\n",
    "                        'y_mid' : 0\n",
    "                    }\n",
    "                    bbox_data['x_min'] = int(obj_items[0].text)\n",
    "                    bbox_data['y_min'] = int(obj_items[1].text)\n",
    "                    bbox_data['x_max'] = int(obj_items[2].text)\n",
    "                    bbox_data['y_max'] = int(obj_items[3].text)\n",
    "                    \n",
    "                    # Calculating the mid-point of the bbox\n",
    "                    bbox_data['x_mid'] = np.floor( 1/2 * (bbox_data['x_min'] + bbox_data['x_max']) )\n",
    "                    bbox_data['y_mid'] = np.floor( 1/2 * (bbox_data['y_min'] + bbox_data['y_max']) )\n",
    "                    bboxes.append(bbox_data)\n",
    "    im_data['bboxes'] = bboxes\n",
    "    return im_data"
   ]
  },
  {
   "cell_type": "code",
   "execution_count": 10,
   "metadata": {},
   "outputs": [],
   "source": [
    "imgs, annots = open_traffic_ds(config)"
   ]
  },
  {
   "cell_type": "code",
   "execution_count": 11,
   "metadata": {},
   "outputs": [
    {
     "name": "stdout",
     "output_type": "stream",
     "text": [
      "Number of Images:\t 877\n",
      "Number of Y:\t\t 877\n",
      "(400, 321, 3)\n",
      "{'filename': 'road22.png', 'h': 400, 'w': 321, 'bboxes': [{'x_mid': 129.0, 'x_max': 150, 'y_max': 182, 'y_mid': 112.0, 'y_min': 43, 'x_min': 108}, {'x_mid': 79.0, 'x_max': 105, 'y_max': 149, 'y_mid': 98.0, 'y_min': 47, 'x_min': 54}, {'x_mid': 215.0, 'x_max': 284, 'y_max': 370, 'y_mid': 299.0, 'y_min': 228, 'x_min': 146}]}\n"
     ]
    }
   ],
   "source": [
    "print(\"Number of Images:\\t\", len(imgs))\n",
    "print(\"Number of Y:\\t\\t\", len(annots))\n",
    "print(imgs[22].shape)\n",
    "print(annots[22])"
   ]
  },
  {
   "cell_type": "code",
   "execution_count": 12,
   "metadata": {},
   "outputs": [],
   "source": [
    "class DataPrepper:\n",
    "    \n",
    "    def __init__(self, x_data=None, y_data=None):\n",
    "        self.x_data = x_data\n",
    "        self.y_data = y_data\n",
    "        pass\n",
    "    \n",
    "    \n",
    "    def rescale_data(self,x_data,y_data):\n",
    "        \"\"\"\n",
    "        In order for the model to learn the locations of the objects\n",
    "        we need to rescale the images and bounding boxes to the same\n",
    "        height and width\n",
    "        \n",
    "        Due to the fact that the data is given in varying dimensions,\n",
    "        we need to set it to a set size\n",
    "        \"\"\"\n",
    "        \n",
    "        for idx,img in enumerate(x_data):\n",
    "            y = y_data[idx]\n",
    "            \n",
    "            # Resize img\n",
    "            im_resized = cv2.resize(\n",
    "                img,\n",
    "                (config['img_size'],config['img_size'])\n",
    "            )\n",
    "            x_data[idx] = im_resized\n",
    "            \n",
    "            # Rescale y_data accordingly\n",
    "            x_scaler = config['img_size'] / y['w']\n",
    "            y_scaler = config['img_size'] / y['h']\n",
    "            \n",
    "            y['w'] = config['img_size']\n",
    "            y['h'] = config['img_size']\n",
    "            \n",
    "            # Rescale each bbox\n",
    "            for bbox in y['bboxes']:\n",
    "                bbox['x_min'] = int(( bbox['x_min'] * x_scaler ))\n",
    "                bbox['x_max'] = int(( bbox['x_max'] * x_scaler ))\n",
    "\n",
    "                bbox['y_min'] = int(( bbox['y_min'] * y_scaler ))\n",
    "                bbox['y_max'] = int(( bbox['y_max'] * y_scaler ))\n",
    "\n",
    "                bbox['x_mid'] = int(( bbox['x_mid'] * x_scaler ))\n",
    "                bbox['y_mid'] = int(( bbox['y_mid'] * y_scaler ))\n",
    "            \n",
    "            y_data[idx] = y\n",
    "        return x_data, y_data\n",
    "        \n",
    "    \n",
    "    def normalize(self,x_data,y_data):\n",
    "        for idx,img in enumerate(x_data):\n",
    "            y = y_data[idx]\n",
    "            \n",
    "            # normalize img\n",
    "            img = img[:, :, ::-1].transpose(0,1,2)\n",
    "            img = np.ascontiguousarray(img, dtype=np.float32)\n",
    "            img /= 255.0\n",
    "            \n",
    "            y['w'] = config['img_size']/config['img_size']\n",
    "            y['h'] = config['img_size']/config['img_size']\n",
    "            \n",
    "            # normalize bboxes\n",
    "            for bbox in y['bboxes']:\n",
    "                bbox['x_min'] /= config['img_size']\n",
    "                bbox['x_max'] /= config['img_size']\n",
    "\n",
    "                bbox['y_min'] /= config['img_size']\n",
    "                bbox['y_max'] /= config['img_size']\n",
    "\n",
    "                bbox['x_mid'] /= config['img_size']\n",
    "                bbox['y_mid'] /= config['img_size']\n",
    "            \n",
    "            x_data[idx] = img\n",
    "            y_data[idx] = y\n",
    "        return x_data, y_data\n",
    "    \n",
    "    def draw_grid(self,img,y_data):\n",
    "        # Visualize the grid cells that YOLO will be using to track an objects location\n",
    "        x = np.floor(y_data['w'] / config['num_grid_cells'])\n",
    "        y = np.floor(y_data['h'] / config['num_grid_cells'])\n",
    "\n",
    "        move_x = x\n",
    "        move_y = y\n",
    "        plt.imshow(img)\n",
    "        for i in range(config['num_grid_cells']):\n",
    "            plt.plot([move_x,move_x],[0,y_data['h']],color='r',marker='.')\n",
    "            plt.plot([0,y_data['w']],[move_y,move_y],color='r',marker='.')\n",
    "            move_x += x\n",
    "            move_y += y\n",
    "        plt.show()\n",
    "        \n",
    "    def visualize_data(self,img,data):\n",
    "        print(data['h'])\n",
    "        print(data['w'])\n",
    "        fig,ax = plt.subplots(1)\n",
    "        plt.imshow(img)\n",
    "        \n",
    "        for bbox in data['bboxes']:\n",
    "            rect = patches.Rectangle(\n",
    "                (bbox['x_min'],bbox['y_min']),\n",
    "                bbox['x_max']-bbox['x_min'],\n",
    "                bbox['y_max']-bbox['y_min'],\n",
    "                linewidth=2,\n",
    "                edgecolor='r',\n",
    "                facecolor='none'\n",
    "            )\n",
    "            pt = plt.plot(bbox['x_mid'],bbox['y_mid'],color='r',marker='.')\n",
    "            ax.add_patch(rect)\n",
    "        plt.show()\n",
    "        plt.cla()\n",
    "        plt.clf()\n",
    "        plt.close()"
   ]
  },
  {
   "cell_type": "code",
   "execution_count": 13,
   "metadata": {},
   "outputs": [],
   "source": [
    "# Visualizing the grid that YOLO will be using to looking for objects and their location\n",
    "dp = DataPrepper(x_data=imgs,y_data=annots)"
   ]
  },
  {
   "cell_type": "code",
   "execution_count": 14,
   "metadata": {},
   "outputs": [],
   "source": [
    "dp.x_data_scaled,dp.y_data_scaled = dp.rescale_data(dp.x_data,dp.y_data)"
   ]
  },
  {
   "cell_type": "code",
   "execution_count": 15,
   "metadata": {
    "scrolled": false
   },
   "outputs": [
    {
     "name": "stdout",
     "output_type": "stream",
     "text": [
      "Number of examples =  877\n",
      "Shape of each example =  (416, 416, 3)\n",
      "Number of y examples =  877\n",
      "{'filename': 'road0.png', 'h': 416, 'w': 416, 'bboxes': [{'x_mid': 238, 'x_max': 324, 'y_max': 241, 'y_mid': 152, 'y_min': 64, 'x_min': 152}]}\n"
     ]
    }
   ],
   "source": [
    "print(\"Number of examples = \",len(dp.x_data_scaled))\n",
    "print(\"Shape of each example = \", dp.x_data_scaled[0].shape)\n",
    "print(\"Number of y examples = \", len(dp.y_data_scaled))\n",
    "print(dp.y_data_scaled[0])"
   ]
  },
  {
   "cell_type": "markdown",
   "metadata": {},
   "source": [
    "## Analysis of Boxes"
   ]
  },
  {
   "cell_type": "code",
   "execution_count": 16,
   "metadata": {},
   "outputs": [
    {
     "data": {
      "image/png": "[encoded data removed]",
      "text/plain": [
       "<Figure size 432x288 with 1 Axes>"
      ]
     },
     "metadata": {
      "needs_background": "light"
     },
     "output_type": "display_data"
    }
   ],
   "source": [
    "def h_vs_w(y_data):\n",
    "    \n",
    "    h = []\n",
    "    w = []\n",
    "    for idx,y in enumerate(y_data):\n",
    "        for box in y['bboxes']:\n",
    "            h.append(box['y_max'] - box['y_min'])\n",
    "            w.append(box['x_max'] - box['x_min'])\n",
    "    \n",
    "    plt.xlabel(\"Width (w)\")\n",
    "    plt.ylabel(\"Height (h)\")\n",
    "    plt.scatter(w,h,color='r',marker='.')\n",
    "\n",
    "h_vs_w(dp.y_data_scaled)"
   ]
  },
  {
   "cell_type": "code",
   "execution_count": 34,
   "metadata": {},
   "outputs": [],
   "source": [
    "import random\n",
    "import numpy as np\n",
    "import yaml\n",
    "import cv2\n",
    "import json\n",
    "import xml\n",
    "from xml.etree import ElementTree\n",
    "import os\n",
    "import sys\n",
    "import re\n",
    "from tqdm import tqdm\n",
    "import matplotlib.pyplot as plt\n",
    "import matplotlib.patches as patches\n",
    "\n",
    "config = yaml.safe_load(open(\"../config.yaml\"))\n",
    "\n",
    "class KMeans:\n",
    "    def __init__(self,k,dataset):\n",
    "        self.num_clusters = k\n",
    "        self.bboxes = []\n",
    "        for example in dataset:\n",
    "            for bbox in example['bboxes']:\n",
    "                # Placing boxes at the origin\n",
    "                self.bboxes.append({\n",
    "                    'x_min' : 0,\n",
    "                    'y_min' : 0,\n",
    "                    'x_max' : bbox['x_max'] - bbox['x_min'],\n",
    "                    'y_max' : bbox['y_max'] - bbox['y_min'],\n",
    "                    'x_mid' : 1/2 * (bbox['x_max'] - bbox['x_min']),\n",
    "                    'y_mid' : 1/2 * (bbox['y_max'] - bbox['y_min'])\n",
    "                })\n",
    "        pass\n",
    "    \n",
    "    def gen_random_centroids(self):\n",
    "        # First generate the random indicies\n",
    "        #print(len(self.bboxes))\n",
    "        rand_idx = []\n",
    "        rand_idx = [ random.randrange(len(self.bboxes)) for i in range(self.num_clusters) ]\n",
    "        centroids = [ self.bboxes[i] for i in rand_idx ]\n",
    "        return centroids\n",
    "    \n",
    "    def create_clusters(self):\n",
    "        # Create lists for the number of clusters\n",
    "        # each list represents a cluster\n",
    "        clusters = []\n",
    "        for i in range(self.num_clusters):\n",
    "            clusters.append([])        \n",
    "        return clusters\n",
    "    \n",
    "    def visualize_data(self,bboxes,xlim_l=-1,xlim_r=300,ylim_l=-1,ylim_r=300):\n",
    "        fig,ax = plt.subplots()\n",
    "        \n",
    "        for bbox in bboxes:\n",
    "            rect = patches.Rectangle(\n",
    "                (bbox['x_min'],bbox['y_min']),\n",
    "                bbox['x_max']-bbox['x_min'],\n",
    "                bbox['y_max']-bbox['y_min'],\n",
    "                linewidth=2,\n",
    "                edgecolor='r',\n",
    "                facecolor='none'\n",
    "            )\n",
    "            ax.add_patch(rect)\n",
    "        \n",
    "        plt.xlim(xlim_l,xlim_r)\n",
    "        plt.ylim(ylim_l,ylim_r)\n",
    "        \n",
    "        plt.show()\n",
    "    \n",
    "    def iou(self,bbox1,bbox2,visualize=False,debug=False):\n",
    "        max_min_x = max(bbox1['x_min'],bbox2['x_min'])\n",
    "        min_max_x = min(bbox1['x_max'],bbox2['x_max'])\n",
    "        intersection_x = min_max_x - max_min_x\n",
    "        \n",
    "        max_min_y = max(bbox1['y_min'],bbox2['y_min'])\n",
    "        min_max_y = min(bbox1['y_max'],bbox2['y_max'])\n",
    "        intersection_y = min_max_y - max_min_y\n",
    "        \n",
    "        intersection_area = intersection_x * intersection_y\n",
    "        if(intersection_x <= 0 or intersection_y <= 0 or intersection_area <= 0):\n",
    "            iou = 0\n",
    "        else:\n",
    "            # Calculate Area of each box\n",
    "            bbox1_area = (bbox1['x_max'] - bbox1['x_min']) * (bbox1['y_max'] - bbox1['y_min'])\n",
    "            bbox2_area = (bbox2['x_max'] - bbox2['x_min']) * (bbox2['y_max'] - bbox2['y_min'])\n",
    "\n",
    "            iou = (intersection_area)/(bbox1_area + bbox2_area - intersection_area)\n",
    "        return iou\n",
    "        \n",
    "    def iou_2(self,centroids,bbox,visualize=False,debug=False):\n",
    "        \"\"\"\n",
    "        iou_2 is very similar to iou, the difference is that\n",
    "        centroids in this case is an array of bboxes which is\n",
    "        of size (k)\n",
    "        \"\"\"\n",
    "        cluster_iou = []\n",
    "        for c_box in centroids:\n",
    "                       \n",
    "            max_min_x = max(c_box['x_min'],bbox['x_min'])\n",
    "            min_max_x = min(c_box['x_max'],bbox['x_max'])\n",
    "            intersection_x = min_max_x - max_min_x \n",
    "            \n",
    "            max_min_y = max(c_box['y_min'],bbox['y_min'])\n",
    "            min_max_y = min(c_box['y_max'],bbox['y_max'])\n",
    "            intersection_y = min_max_y - max_min_y\n",
    "            \n",
    "            intersection_area = intersection_x * intersection_y\n",
    "            \n",
    "            if(debug):\n",
    "                print('i_x = ', intersection_x)\n",
    "                print('i_y = ', intersection_y)\n",
    "                print(\"I_A = \", intersection_area)\n",
    "            \n",
    "            if(intersection_x <= 0 or intersection_y <= 0 or intersection_area <= 0):\n",
    "                # If boxes are not intersected\n",
    "                iou = 0\n",
    "                if(visualize):\n",
    "                    self.visualize_data(bbox,c_box)\n",
    "            else:\n",
    "                # Calculate Area of each box\n",
    "                bbox_area = (bbox['x_max'] - bbox['x_min']) * (bbox['y_max'] - bbox['y_min'])\n",
    "                c_box_area = (c_box['x_max'] - c_box['x_min']) * (c_box['y_max'] - c_box['y_min'])\n",
    "                iou = (intersection_area)/(bbox_area + c_box_area - intersection_area)\n",
    "            if(debug):\n",
    "                print(\"iou = \", iou)\n",
    "            cluster_iou.append(iou)\n",
    "        if(debug):\n",
    "            print(cluster_iou)\n",
    "        return np.array(cluster_iou)\n",
    "    \n",
    "    def avg_iou(self,dataset,centroids): \n",
    "        sum = 0\n",
    "        for bbox in self.bboxes:\n",
    "            sum += max(self.iou_2(centroids,bbox))\n",
    "        return sum/len(self.bboxes)\n",
    "    \n",
    "    def recalculate_centroids(self,centroids,clusters,debug=False):\n",
    "        cluster_sums = []\n",
    "        for cluster in clusters:\n",
    "            cluster_sum = {\n",
    "                        'x_min' : 0,\n",
    "                        'x_max' : 0,\n",
    "                        'y_min' : 0,\n",
    "                        'y_max' : 0,\n",
    "                        'x_mid' : 0,\n",
    "                        'y_mid' : 0\n",
    "                    }\n",
    "            for bbox in cluster:\n",
    "                cluster_sum['x_min'] += bbox['x_min']\n",
    "                cluster_sum['y_min'] += bbox['y_min']\n",
    "                cluster_sum['x_max'] += bbox['x_max']\n",
    "                cluster_sum['y_max'] += bbox['y_max']\n",
    "                cluster_sum['x_mid'] += bbox['x_mid']\n",
    "                cluster_sum['y_mid'] += bbox['y_mid']\n",
    "            cluster_sums.append(cluster_sum)\n",
    "        \n",
    "        # Calculate the mean for each sum\n",
    "        for i in range(self.num_clusters):\n",
    "            if(len(clusters[i]) > 0):\n",
    "                centroids[i]['x_min'] = cluster_sums[i]['x_min']/len(clusters[i])\n",
    "                centroids[i]['y_min'] = cluster_sums[i]['y_min']/len(clusters[i])\n",
    "                centroids[i]['x_max'] = cluster_sums[i]['x_max']/len(clusters[i])\n",
    "                centroids[i]['y_max'] = cluster_sums[i]['y_max']/len(clusters[i])\n",
    "                centroids[i]['x_mid'] = cluster_sums[i]['x_mid']/len(clusters[i])\n",
    "                centroids[i]['y_mid'] = cluster_sums[i]['y_mid']/len(clusters[i])\n",
    "                \n",
    "        if(debug):\n",
    "            self.visualize_data(centroids[0],centroids[1])\n",
    "        return centroids\n",
    "    \n",
    "    def write_anchors(self,centroids):\n",
    "        anchors = {}\n",
    "        for idx,anchor in enumerate(centroids):\n",
    "            anchors[\"anchor\"+str(idx+1)] = anchor\n",
    "        json_anchors = json.dumps(anchors,sort_keys=False, indent=4)\n",
    "        anchor_file = open(\"anchors.json\",\"w+\")\n",
    "        \n",
    "        sys.stdout = anchor_file\n",
    "        print(json_anchors)\n",
    "        sys.stdout = sys.__stdout__\n",
    "        anchor_file.close()\n",
    "        print(\"[SUCCESS]: Anchor boxes written to file.\")\n",
    "        \n",
    "    def fit(self,max_iterations=1,debug=False):\n",
    "        # generate the init random centroids\n",
    "        self.centroids = self.gen_random_centroids()\n",
    "        \n",
    "        # Create the initial clusters\n",
    "        clusters = self.create_clusters()\n",
    "\n",
    "        old_centroids = None\n",
    "        old_min_clusters = np.ones(len(self.bboxes))*(-1)\n",
    "        \n",
    "        iteration = 0\n",
    "        while True:\n",
    "            distances = []\n",
    "            # Compare boxes to centroids\n",
    "            for bbox in self.bboxes:\n",
    "                cluster_iou = []\n",
    "                for centroid in self.centroids:\n",
    "                    iou = self.iou(centroid,bbox)\n",
    "                    cluster_iou.append(iou)\n",
    "                cluster_iou = np.array(cluster_iou)\n",
    "                iou_distance = 1 - cluster_iou\n",
    "                distances.append(iou_distance)\n",
    "            distances = np.array(distances)\n",
    "            \n",
    "            min_clusters = np.argmin(distances,axis=1)\n",
    "            \n",
    "            if(min_clusters == old_min_clusters).all():\n",
    "                print(\"DONE! Iteration = {} \".format(iteration))\n",
    "                avg_iou = self.avg_iou(self.bboxes,self.centroids)\n",
    "                print(\"Accuracy = \", avg_iou)\n",
    "                if(debug):\n",
    "                    print(\"Anchors: \", self.centroids)\n",
    "                return self.centroids, avg_iou\n",
    "            \n",
    "            #print(len(min_clusters))\n",
    "            #print(len(self.bboxes))\n",
    "            \n",
    "            # Assigning bboxes to their respective nearest clusters\n",
    "            for idx,bbox in enumerate(self.bboxes):\n",
    "                cluster_idx = min_clusters[idx]\n",
    "                clusters[cluster_idx].append(bbox)\n",
    "            \n",
    "            # Recalculate the centroids for each cluster\n",
    "            self.centroids = self.recalculate_centroids(self.centroids,clusters)\n",
    "            \n",
    "            # Save the previous min_clusters to check if the clusters change in the next iteration\n",
    "            old_min_clusters = min_clusters.copy()\n",
    "            iteration += 1\n",
    "            \n",
    "    def fit_average(self,max_iterations=1):\n",
    "        centroids = self.gen_random_centroids()\n",
    "        all_anchors = []\n",
    "        all_avg_ious = []\n",
    "        for kmeans_iteration in range(max_iterations):\n",
    "            self.centroids, avg_iou = self.fit()\n",
    "            all_anchors.append(self.centroids)\n",
    "            all_avg_ious.append(avg_iou)\n",
    "        # Average of all anchors\n",
    "        self.centroids = self.recalculate_centroids(self.centroids,all_anchors)\n",
    "        mean_average_iou = np.mean(all_avg_ious)\n",
    "        return self.centroids, mean_average_iou"
   ]
  },
  {
   "cell_type": "code",
   "execution_count": 26,
   "metadata": {
    "scrolled": true
   },
   "outputs": [
    {
     "name": "stdout",
     "output_type": "stream",
     "text": [
      "DONE! Iteration = 20 \n",
      "Accuracy =  0.4901549292362059\n"
     ]
    },
    {
     "data": {
      "image/png": "[encoded data removed]",
      "text/plain": [
       "<Figure size 432x288 with 1 Axes>"
      ]
     },
     "metadata": {
      "needs_background": "light"
     },
     "output_type": "display_data"
    }
   ],
   "source": [
    "km = KMeans(k=2,dataset=dp.y_data_scaled)\n",
    "anchors = km.fit(max_iterations=1000)\n",
    "km.visualize_data(anchors)\n",
    "#km.fit_average(10)"
   ]
  },
  {
   "cell_type": "code",
   "execution_count": 27,
   "metadata": {},
   "outputs": [
    {
     "name": "stdout",
     "output_type": "stream",
     "text": [
      "DONE! Iteration = 17 \n",
      "Accuracy =  0.6876920257339879\n"
     ]
    },
    {
     "data": {
      "image/png": "[encoded data removed]",
      "text/plain": [
       "<Figure size 432x288 with 1 Axes>"
      ]
     },
     "metadata": {
      "needs_background": "light"
     },
     "output_type": "display_data"
    }
   ],
   "source": [
    "km = KMeans(k=5,dataset=dp.y_data_scaled)\n",
    "anchors = km.fit(max_iterations=1000)\n",
    "km.visualize_data(anchors)"
   ]
  },
  {
   "cell_type": "code",
   "execution_count": 28,
   "metadata": {},
   "outputs": [
    {
     "name": "stdout",
     "output_type": "stream",
     "text": [
      "DONE! Iteration = 10 \n",
      "Accuracy =  0.736332601969166\n"
     ]
    },
    {
     "data": {
      "image/png": "[encoded data removed]",
      "text/plain": [
       "<Figure size 432x288 with 1 Axes>"
      ]
     },
     "metadata": {
      "needs_background": "light"
     },
     "output_type": "display_data"
    }
   ],
   "source": [
    "km = KMeans(k=9,dataset=dp.y_data_scaled)\n",
    "anchors = km.fit(max_iterations=1000)\n",
    "km.visualize_data(anchors)"
   ]
  },
  {
   "cell_type": "code",
   "execution_count": 39,
   "metadata": {},
   "outputs": [
    {
     "name": "stdout",
     "output_type": "stream",
     "text": [
      "DONE! Iteration = 33 \n",
      "Accuracy =  0.7632764674249283\n",
      "DONE! Iteration = 11 \n",
      "Accuracy =  0.7446023326036153\n",
      "DONE! Iteration = 34 \n",
      "Accuracy =  0.7622018941191273\n",
      "DONE! Iteration = 25 \n",
      "Accuracy =  0.7522817408812754\n",
      "DONE! Iteration = 21 \n",
      "Accuracy =  0.716492657988468\n",
      "DONE! Iteration = 12 \n",
      "Accuracy =  0.7370803378774254\n",
      "DONE! Iteration = 35 \n",
      "Accuracy =  0.7172878235359205\n",
      "DONE! Iteration = 54 \n",
      "Accuracy =  0.7586670434186141\n",
      "DONE! Iteration = 39 \n",
      "Accuracy =  0.7482126780858436\n",
      "DONE! Iteration = 9 \n",
      "Accuracy =  0.7306904719343175\n",
      "Mean Average IOU =  0.7430793447869536\n"
     ]
    },
    {
     "data": {
      "image/png": "[encoded data removed]",
      "text/plain": [
       "<Figure size 432x288 with 1 Axes>"
      ]
     },
     "metadata": {
      "needs_background": "light"
     },
     "output_type": "display_data"
    }
   ],
   "source": [
    "km = KMeans(k=9,dataset=dp.y_data_scaled)\n",
    "anchors, ma_iou = km.fit_average(max_iterations=10)\n",
    "print(\"Mean Average IOU = \", ma_iou)\n",
    "km.visualize_data(anchors)"
   ]
  }
 ],
 "metadata": {
  "kernelspec": {
   "display_name": "Python 3",
   "language": "python",
   "name": "python3"
  },
  "language_info": {
   "codemirror_mode": {
    "name": "ipython",
    "version": 3
   },
   "file_extension": ".py",
   "mimetype": "text/x-python",
   "name": "python",
   "nbconvert_exporter": "python",
   "pygments_lexer": "ipython3",
   "version": "3.5.2"
  }
 },
 "nbformat": 4,
 "nbformat_minor": 2
}
